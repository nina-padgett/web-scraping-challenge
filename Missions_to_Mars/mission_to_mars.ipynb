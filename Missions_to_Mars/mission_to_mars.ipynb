{
 "cells": [
  {
   "cell_type": "code",
   "execution_count": 1,
   "id": "8adc9f76",
   "metadata": {},
   "outputs": [],
   "source": [
    "from flask import Flask, render_template, redirect\n",
    "from splinter import Browser\n",
    "import os\n",
    "from bs4 import BeautifulSoup as bs\n",
    "import requests\n",
    "from webdriver_manager.chrome import ChromeDriverManager\n",
    "import pandas as pd\n",
    "import pymongo\n",
    "import time"
   ]
  },
  {
   "cell_type": "code",
   "execution_count": null,
   "id": "d3964ba2",
   "metadata": {},
   "outputs": [],
   "source": [
    "# Create a function that will run each scraping function created in later created functions\n",
    "def scrape_all():"
   ]
  },
  {
   "cell_type": "markdown",
   "id": "3c50b5d1",
   "metadata": {},
   "source": [
    "# Part 1: Scraping\n",
    "### NASA Mars News"
   ]
  },
  {
   "cell_type": "code",
   "execution_count": 2,
   "id": "7a1f9470",
   "metadata": {
    "scrolled": true
   },
   "outputs": [
    {
     "name": "stderr",
     "output_type": "stream",
     "text": [
      "\n",
      "\n",
      "====== WebDriver manager ======\n",
      "Current google-chrome version is 102.0.5005\n",
      "Get LATEST chromedriver version for 102.0.5005 google-chrome\n",
      "Trying to download new driver from https://chromedriver.storage.googleapis.com/102.0.5005.61/chromedriver_win32.zip\n",
      "Driver has been saved in cache [C:\\Users\\ninap\\.wdm\\drivers\\chromedriver\\win32\\102.0.5005.61]\n"
     ]
    }
   ],
   "source": [
    "# Setup splinter\n",
    "executable_path = {'executable_path': ChromeDriverManager().install()}\n",
    "browser = Browser('chrome', **executable_path, headless=False)"
   ]
  },
  {
   "cell_type": "code",
   "execution_count": null,
   "id": "c28fa3b4",
   "metadata": {},
   "outputs": [],
   "source": [
    "latest_news_title, latest_news_paragraph = latest_news_title_and_paragraph_function(browser)"
   ]
  },
  {
   "cell_type": "code",
   "execution_count": null,
   "id": "6aad5c45",
   "metadata": {},
   "outputs": [],
   "source": [
    "# Create a dictionary that holds each function created in later created functions\n",
    "all_scraped_elements_dict = {\"latest_news_title\": latest_news_title, \n",
    "                                \"latest_news_paragraph\": latest_news_paragraph, \n",
    "                                \"featured_image_url\": mars_featured_img_function(browser), \n",
    "                                \"facts_html\": mars_facts_function(),\n",
    "                                \"hemispheres\": hemispheres(browser),\n",
    "                                \"last_modify\": dt.datetime.now()}\n",
    "    browser.quit\n",
    "    return all_scraped_elements_dict"
   ]
  },
  {
   "cell_type": "code",
   "execution_count": 3,
   "id": "1bfe86fb",
   "metadata": {},
   "outputs": [],
   "source": [
    "# Extract the latest news title\n",
    "def latest_news_title_and_paragraph_function(browser):\n",
    "    # Use browser to visit the URL\n",
    "    url = 'https://redplanetscience.com/'\n",
    "    browser.visit(url)\n",
    "\n",
    "    # Wait 1 seconds\n",
    "    time.sleep(1)\n",
    "\n",
    "    # Retrieve page\n",
    "    html = browser.html\n",
    "\n",
    "    # Create Beautiful Soup Object\n",
    "    news_soup = bs(html, 'html.parser')\n",
    "    type(news_soup)\n",
    "\n",
    "    latest_news_title = news_soup.find('div', class_='content_title').get_text()\n",
    "\n",
    "    # Extract paragraph text of the latest news story\n",
    "    latest_news_paragraph = news_soup.find('div', class_='article_teaser_body').get_text()\n",
    "    return latest_news_title, latest_news_paragraph"
   ]
  },
  {
   "cell_type": "markdown",
   "id": "9b175908",
   "metadata": {},
   "source": [
    "### JPL Mars Space Images-Featured Image"
   ]
  },
  {
   "cell_type": "code",
   "execution_count": 10,
   "id": "92f652ec",
   "metadata": {},
   "outputs": [],
   "source": [
    "# Create a function to extract the Mars Space Featured Image\n",
    "def mars_featured_img_function(browser):\n",
    "    # Use browser to visit the URL\n",
    "    image_url = 'https://spaceimages-mars.com/'\n",
    "    browser.visit(image_url)\n",
    "\n",
    "    full_img = browser.find_by_tag(\"button\")[1]\n",
    "    full_img.click()\n",
    "\n",
    "    # Retrieve page\n",
    "    html = browser.html\n",
    "\n",
    "    # Create Beautiful Soup Object\n",
    "    image_soup = bs(html, 'html.parser')\n",
    "   \n",
    "    # error handling\n",
    "    try:\n",
    "        featured_image_url = image_soup.find('img', class_='fancybox-image').get('src')\n",
    "    except AttributeError:\n",
    "        return None\n",
    "    image_url=f'https://spaceimages-mars.com/{featured_image_url}'\n",
    "    return image_url"
   ]
  },
  {
   "cell_type": "markdown",
   "id": "fa56e2d4",
   "metadata": {},
   "source": [
    "### Mars Facts"
   ]
  },
  {
   "cell_type": "code",
   "execution_count": 13,
   "id": "ef04955c",
   "metadata": {},
   "outputs": [],
   "source": [
    "# Create a function to extract Mars Facts\n",
    "def mars_facts_function():\n",
    "    try: \n",
    "        facts_url = 'https://galaxyfacts-mars.com/'\n",
    "        df = pd.read_html(facts_url)[0]\n",
    "    except BaseException:\n",
    "        return None\n",
    "\n",
    "    # Wait 1 second\n",
    "    time.sleep(1)\n",
    "\n",
    "    # Read html table\n",
    "    df.columns=['Description', 'Mars', 'Earth']\n",
    "    df.set_index('Description', inplace=True)\n",
    "    \n",
    "    # Clean table by removing unwanted newlines \n",
    "    facts_html = df.to_html(classes='table table-striped')\n",
    "    return facts_html\n",
    "    facts_soup = bs(html, '')"
   ]
  },
  {
   "cell_type": "markdown",
   "id": "c328e35e",
   "metadata": {},
   "source": [
    "### Mars Hemispheres"
   ]
  },
  {
   "cell_type": "code",
   "execution_count": 55,
   "id": "1481cb26",
   "metadata": {},
   "outputs": [
    {
     "data": {
      "text/plain": [
       "bs4.BeautifulSoup"
      ]
     },
     "execution_count": 55,
     "metadata": {},
     "output_type": "execute_result"
    }
   ],
   "source": [
    "# Create a function to extract Mars Hemisphere Images\n",
    "def hemispheres(browser):\n",
    "    all_hemispheres_url = 'https://marshemispheres.com/'\n",
    "    browser.visit(all_hemispheres_url + 'index.html')\n",
    "    stored_img_urls = []\n",
    "    \n",
    "    for i in range(4):\n",
    "\n",
    "        browser.find_by_css('a.product-item img')[i].click()\n",
    "        hemi_data = scrape_hemisphere(browser.html)\n",
    "        hemi_data[\"img_url\"] = all_hemispheres_url + hemi_data[\"img_url\"]\n",
    "        stored_img_urls.append(hemi_data)\n",
    "        browser.back()\n",
    "    return stored_img_urls\n",
    "\n",
    "def scrape_hemisphere(html_text):\n",
    "    hemi_soup = bs(html_text, \"html.parser\")\n",
    "    try:\n",
    "        title_elements = hemi_soup.find(\"h2\", class_=\"title\").get_text()\n",
    "        sample_elements = hemi_soup.find(\"a\", text=\"Sample\").get(\"href\")\n",
    "    except AttributeError:\n",
    "        title_elements = None\n",
    "        sample_elements = None\n",
    "    \n",
    "    hemispheres = {\"title\":title_elements, \"img_url\":sample_elements}\n",
    "    return hemispheres"
   ]
  },
  {
   "cell_type": "code",
   "execution_count": null,
   "id": "27ca1419",
   "metadata": {},
   "outputs": [],
   "source": [
    "#scrape_all()\n",
    "if __name__ == \"__main__\":\n",
    "    print(scrape_all())"
   ]
  }
 ],
 "metadata": {
  "kernelspec": {
   "display_name": "Python [conda env:PythonData38] *",
   "language": "python",
   "name": "conda-env-PythonData38-py"
  },
  "language_info": {
   "codemirror_mode": {
    "name": "ipython",
    "version": 3
   },
   "file_extension": ".py",
   "mimetype": "text/x-python",
   "name": "python",
   "nbconvert_exporter": "python",
   "pygments_lexer": "ipython3",
   "version": "3.8.12"
  }
 },
 "nbformat": 4,
 "nbformat_minor": 5
}

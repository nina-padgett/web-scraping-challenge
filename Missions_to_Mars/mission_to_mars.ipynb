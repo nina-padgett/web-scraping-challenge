{
 "cells": [
  {
   "cell_type": "code",
   "execution_count": 1,
   "id": "8adc9f76",
   "metadata": {},
   "outputs": [],
   "source": [
    "from flask import Flask, render_template, redirect\n",
    "from splinter import Browser\n",
    "import os\n",
    "from bs4 import BeautifulSoup as bs\n",
    "import requests\n",
    "from webdriver_manager.chrome import ChromeDriverManager\n",
    "import pandas as pd\n",
    "import pymongo\n",
    "import time"
   ]
  },
  {
   "cell_type": "markdown",
   "id": "3c50b5d1",
   "metadata": {},
   "source": [
    "# Part 1: Scraping\n",
    "### NASA Mars News"
   ]
  },
  {
   "cell_type": "code",
   "execution_count": 2,
   "id": "7a1f9470",
   "metadata": {
    "scrolled": true
   },
   "outputs": [
    {
     "name": "stderr",
     "output_type": "stream",
     "text": [
      "\n",
      "\n",
      "====== WebDriver manager ======\n",
      "Current google-chrome version is 102.0.5005\n",
      "Get LATEST chromedriver version for 102.0.5005 google-chrome\n",
      "Trying to download new driver from https://chromedriver.storage.googleapis.com/102.0.5005.61/chromedriver_win32.zip\n",
      "Driver has been saved in cache [C:\\Users\\ninap\\.wdm\\drivers\\chromedriver\\win32\\102.0.5005.61]\n"
     ]
    }
   ],
   "source": [
    "# Setup splinter\n",
    "executable_path = {'executable_path': ChromeDriverManager().install()}\n",
    "browser = Browser('chrome', **executable_path, headless=False)"
   ]
  },
  {
   "cell_type": "code",
   "execution_count": 3,
   "id": "1bfe86fb",
   "metadata": {},
   "outputs": [],
   "source": [
    "# Use browser to visit the URL\n",
    "url = 'https://redplanetscience.com/'\n",
    "browser.visit(url)"
   ]
  },
  {
   "cell_type": "code",
   "execution_count": 4,
   "id": "c68a368e",
   "metadata": {},
   "outputs": [],
   "source": [
    "# Wait 5 seconds\n",
    "time.sleep(5)"
   ]
  },
  {
   "cell_type": "code",
   "execution_count": 5,
   "id": "83a4118e",
   "metadata": {},
   "outputs": [],
   "source": [
    "# Retrieve page\n",
    "html = browser.html"
   ]
  },
  {
   "cell_type": "code",
   "execution_count": 6,
   "id": "cef859fe",
   "metadata": {},
   "outputs": [
    {
     "data": {
      "text/plain": [
       "bs4.BeautifulSoup"
      ]
     },
     "execution_count": 6,
     "metadata": {},
     "output_type": "execute_result"
    }
   ],
   "source": [
    "# Create Beautiful Soup Object\n",
    "soup = bs(html, 'html.parser')\n",
    "type(soup)"
   ]
  },
  {
   "cell_type": "code",
   "execution_count": 7,
   "id": "88febf1b",
   "metadata": {},
   "outputs": [
    {
     "name": "stdout",
     "output_type": "stream",
     "text": [
      "While Stargazing on Mars, NASA's Curiosity Rover Spots Earth and Venus\n"
     ]
    }
   ],
   "source": [
    "# Extract the latest news title\n",
    "latest_news_title = soup.find('div', class_='content_title').get_text()\n",
    "print(latest_news_title)"
   ]
  },
  {
   "cell_type": "code",
   "execution_count": 8,
   "id": "909eaaf3",
   "metadata": {},
   "outputs": [
    {
     "name": "stdout",
     "output_type": "stream",
     "text": [
      "This new portrait of the Red Planet's neighbors was taken during a time when there's more dust in the air on Mars.\n"
     ]
    }
   ],
   "source": [
    "# Extract paragraph text of the latest news story\n",
    "latest_news_paragraph = soup.find('div', class_='article_teaser_body').get_text()\n",
    "print(latest_news_paragraph)"
   ]
  },
  {
   "cell_type": "markdown",
   "id": "9b175908",
   "metadata": {},
   "source": [
    "### JPL Mars Space Images-Featured Image"
   ]
  },
  {
   "cell_type": "code",
   "execution_count": 9,
   "id": "4860116e",
   "metadata": {},
   "outputs": [
    {
     "name": "stderr",
     "output_type": "stream",
     "text": [
      "\n",
      "\n",
      "====== WebDriver manager ======\n",
      "Current google-chrome version is 102.0.5005\n",
      "Get LATEST chromedriver version for 102.0.5005 google-chrome\n",
      "Driver [C:\\Users\\ninap\\.wdm\\drivers\\chromedriver\\win32\\102.0.5005.61\\chromedriver.exe] found in cache\n"
     ]
    }
   ],
   "source": [
    "# Setup splinter\n",
    "executable_path = {'executable_path': ChromeDriverManager().install()}\n",
    "browser = Browser('chrome', **executable_path, headless=False)"
   ]
  },
  {
   "cell_type": "code",
   "execution_count": 10,
   "id": "92f652ec",
   "metadata": {},
   "outputs": [],
   "source": [
    "# Use browser to visit the URL\n",
    "images_url = 'https://spaceimages-mars.com/'\n",
    "browser.visit(images_url)"
   ]
  },
  {
   "cell_type": "code",
   "execution_count": 11,
   "id": "dbd94eba",
   "metadata": {},
   "outputs": [],
   "source": [
    "# Retrieve page\n",
    "html = browser.html"
   ]
  },
  {
   "cell_type": "code",
   "execution_count": 12,
   "id": "69f2b6f6",
   "metadata": {},
   "outputs": [],
   "source": [
    "# URL of the Featured Mars Image\n",
    "featured_image_url = 'https://spaceimages-mars.com/image/featured/mars3.jpg'\n",
    "browser.visit(featured_image_url)"
   ]
  },
  {
   "cell_type": "markdown",
   "id": "fa56e2d4",
   "metadata": {},
   "source": [
    "### Mars Facts"
   ]
  },
  {
   "cell_type": "code",
   "execution_count": 13,
   "id": "ef04955c",
   "metadata": {},
   "outputs": [],
   "source": [
    "def mars_facts():\n",
    "    facts_url = 'https://galaxyfacts-mars.com/'\n",
    "    # Read html table\n",
    "    tables = pd.read_html(facts_url)\n",
    "    df=tables[0]\n",
    "    df.columns=['Description', 'Mars', 'Earth']\n",
    "    df.set_index('Description', inplace=True)\n",
    "    df=df.iloc[1:]\n",
    "    # Clean table by removing unwanted newlines \n",
    "    return df.to_html(classes='table table-striped').replace('\\n', '')"
   ]
  },
  {
   "cell_type": "code",
   "execution_count": 14,
   "id": "e3568f1c",
   "metadata": {},
   "outputs": [
    {
     "data": {
      "text/plain": [
       "'<table border=\"1\" class=\"dataframe table table-striped\">  <thead>    <tr style=\"text-align: right;\">      <th></th>      <th>Mars</th>      <th>Earth</th>    </tr>    <tr>      <th>Description</th>      <th></th>      <th></th>    </tr>  </thead>  <tbody>    <tr>      <th>Diameter:</th>      <td>6,779 km</td>      <td>12,742 km</td>    </tr>    <tr>      <th>Mass:</th>      <td>6.39 × 10^23 kg</td>      <td>5.97 × 10^24 kg</td>    </tr>    <tr>      <th>Moons:</th>      <td>2</td>      <td>1</td>    </tr>    <tr>      <th>Distance from Sun:</th>      <td>227,943,824 km</td>      <td>149,598,262 km</td>    </tr>    <tr>      <th>Length of Year:</th>      <td>687 Earth days</td>      <td>365.24 days</td>    </tr>    <tr>      <th>Temperature:</th>      <td>-87 to -5 °C</td>      <td>-88 to 58°C</td>    </tr>  </tbody></table>'"
      ]
     },
     "execution_count": 14,
     "metadata": {},
     "output_type": "execute_result"
    }
   ],
   "source": [
    "# Call the function\n",
    "mars_facts()"
   ]
  },
  {
   "cell_type": "markdown",
   "id": "c328e35e",
   "metadata": {},
   "source": [
    "### Mars Hemispheres"
   ]
  },
  {
   "cell_type": "code",
   "execution_count": 36,
   "id": "c2ee51f2",
   "metadata": {},
   "outputs": [
    {
     "name": "stderr",
     "output_type": "stream",
     "text": [
      "\n",
      "\n",
      "====== WebDriver manager ======\n",
      "Current google-chrome version is 102.0.5005\n",
      "Get LATEST chromedriver version for 102.0.5005 google-chrome\n",
      "Trying to download new driver from https://chromedriver.storage.googleapis.com/102.0.5005.61/chromedriver_win32.zip\n",
      "Driver has been saved in cache [C:\\Users\\ninap\\.wdm\\drivers\\chromedriver\\win32\\102.0.5005.61]\n"
     ]
    }
   ],
   "source": [
    "# Setup splinter\n",
    "executable_path = {'executable_path': ChromeDriverManager().install()}\n",
    "browser = Browser('chrome', **executable_path, headless=False)"
   ]
  },
  {
   "cell_type": "code",
   "execution_count": 37,
   "id": "6858b296",
   "metadata": {},
   "outputs": [],
   "source": [
    "# Use browser to visit the URL\n",
    "all_hemispheres_url = 'https://marshemispheres.com/'\n",
    "browser.visit(all_hemispheres_url)"
   ]
  },
  {
   "cell_type": "code",
   "execution_count": 38,
   "id": "8bd6c860",
   "metadata": {},
   "outputs": [
    {
     "data": {
      "text/plain": [
       "bs4.BeautifulSoup"
      ]
     },
     "execution_count": 38,
     "metadata": {},
     "output_type": "execute_result"
    }
   ],
   "source": [
    "# Create Beautiful Soup Object\n",
    "soup = bs(browser.html, 'html.parser')\n",
    "type(soup)"
   ]
  },
  {
   "cell_type": "code",
   "execution_count": 39,
   "id": "4b4c60f2",
   "metadata": {},
   "outputs": [],
   "source": [
    "# Create dictionary to store the full resolution hemisphere images and hemisphere titles\n",
    "hemisphere_image_list = []"
   ]
  },
  {
   "cell_type": "code",
   "execution_count": 41,
   "id": "dfeb1f68",
   "metadata": {},
   "outputs": [
    {
     "ename": "NameError",
     "evalue": "name 'hemisphere_data' is not defined",
     "output_type": "error",
     "traceback": [
      "\u001b[1;31m---------------------------------------------------------------------------\u001b[0m",
      "\u001b[1;31mNameError\u001b[0m                                 Traceback (most recent call last)",
      "\u001b[1;32m~\\AppData\\Local\\Temp/ipykernel_22376/2690582002.py\u001b[0m in \u001b[0;36m<module>\u001b[1;34m\u001b[0m\n\u001b[0;32m     12\u001b[0m     \u001b[0mbrowser\u001b[0m\u001b[1;33m.\u001b[0m\u001b[0mfind_by_css\u001b[0m\u001b[1;33m(\u001b[0m\u001b[1;34m'img.thumb'\u001b[0m\u001b[1;33m)\u001b[0m\u001b[1;33m[\u001b[0m\u001b[0mi\u001b[0m\u001b[1;33m]\u001b[0m\u001b[1;33m.\u001b[0m\u001b[0mclick\u001b[0m\u001b[1;33m(\u001b[0m\u001b[1;33m)\u001b[0m\u001b[1;33m\u001b[0m\u001b[1;33m\u001b[0m\u001b[0m\n\u001b[0;32m     13\u001b[0m \u001b[1;31m#    hemisphere_data = scrape_hemisphere(browser.html)\u001b[0m\u001b[1;33m\u001b[0m\u001b[1;33m\u001b[0m\u001b[1;33m\u001b[0m\u001b[0m\n\u001b[1;32m---> 14\u001b[1;33m     \u001b[0mhemisphere_data\u001b[0m\u001b[1;33m[\u001b[0m\u001b[1;34m\"img_url\"\u001b[0m\u001b[1;33m]\u001b[0m \u001b[1;33m=\u001b[0m \u001b[0mall_hemispheres_url\u001b[0m \u001b[1;33m+\u001b[0m \u001b[0mhemisphere_data\u001b[0m\u001b[1;33m[\u001b[0m\u001b[1;34m\"img_url\"\u001b[0m\u001b[1;33m]\u001b[0m\u001b[1;33m\u001b[0m\u001b[1;33m\u001b[0m\u001b[0m\n\u001b[0m\u001b[0;32m     15\u001b[0m     \u001b[0mbrowser\u001b[0m\u001b[1;33m.\u001b[0m\u001b[0mfind_by_text\u001b[0m\u001b[1;33m(\u001b[0m\u001b[1;34m'Sample'\u001b[0m\u001b[1;33m)\u001b[0m\u001b[1;33m[\u001b[0m\u001b[1;34m'href'\u001b[0m\u001b[1;33m]\u001b[0m\u001b[1;33m\u001b[0m\u001b[1;33m\u001b[0m\u001b[0m\n\u001b[0;32m     16\u001b[0m     \u001b[0mhemisphere_image_list\u001b[0m\u001b[1;33m.\u001b[0m\u001b[0mappend\u001b[0m\u001b[1;33m(\u001b[0m\u001b[0mhemisphere_data\u001b[0m\u001b[1;33m)\u001b[0m\u001b[1;33m\u001b[0m\u001b[1;33m\u001b[0m\u001b[0m\n",
      "\u001b[1;31mNameError\u001b[0m: name 'hemisphere_data' is not defined"
     ]
    }
   ],
   "source": [
    "# Select first hemisphere link\n",
    "#browser.find_by_css('img.thumb')[0].click()\n",
    "\n",
    "# Download first hemisphere link\n",
    "#img_url = browser.find_by_text('Sample')['href']\n",
    "#img_url\n",
    "#browser.back()\n",
    "\n",
    "#store_img_urls = []\n",
    "\n",
    "for i in range(3):\n",
    "    browser.find_by_css('img.thumb')[i].click() \n",
    "    browser.find_by_text('Sample')['href']\n",
    "#    browser.find_by_text('Sample').first()['href']\n",
    "    browser.back()\n",
    "    print()\n",
    "\n",
    "hemisphere_image_list[\"img_url\"] = img_url\n",
    "#hemisphere_image_list.append({\"img url\": image_url})"
   ]
  },
  {
   "cell_type": "code",
   "execution_count": 26,
   "id": "a1f28476",
   "metadata": {},
   "outputs": [
    {
     "data": {
      "text/plain": [
       "{'img_url': 'https://marshemispheres.com/images/full.jpg'}"
      ]
     },
     "execution_count": 26,
     "metadata": {},
     "output_type": "execute_result"
    }
   ],
   "source": [
    "hemisphere_image_list"
   ]
  },
  {
   "cell_type": "code",
   "execution_count": null,
   "id": "4d1008a2",
   "metadata": {},
   "outputs": [],
   "source": [
    "# Create dictionary to store the full resolution hemisphere images and hemisphere titles\n",
    "\n",
    "hemisphere_image_dict = {}\n",
    "\n",
    "# Loop over item elements\n",
    "items = soup.find_all('item')\n",
    "\n",
    "for item in items:\n",
    "    all_hemispheres_url = item.find(\"a\")[\"href\"]\n",
    "    browser.visit(ea_hemisphere_url)\n",
    "    \n",
    "    # Parse each hemisphere webpage\n",
    "    hemisphere_item_html = browser.html\n",
    "    hemisphere_soup = soup(hemisphere_item_html, \"html.parser\")\n",
    "    \n",
    "    title = hemisphere_soup().find(\"alt\", \"class_\" = \"title\").text\n",
    "    \n",
    "    full_size_image_download = hemisphere_soup.find(\"div\", \"class_\" = \"downloads\")\n",
    "    \n",
    "    image_url = downloads.find(\"a\")[\"href\"]\n",
    "    \n",
    "    hemisphere_image_dict.append({\"title\": title, \"img url\": image_url})"
   ]
  },
  {
   "cell_type": "code",
   "execution_count": null,
   "id": "5e590f02",
   "metadata": {},
   "outputs": [],
   "source": [
    "# Print the dictionary of image URLs and their titles\n",
    "hemisphere_image_dict"
   ]
  }
 ],
 "metadata": {
  "kernelspec": {
   "display_name": "Python [conda env:PythonData38] *",
   "language": "python",
   "name": "conda-env-PythonData38-py"
  },
  "language_info": {
   "codemirror_mode": {
    "name": "ipython",
    "version": 3
   },
   "file_extension": ".py",
   "mimetype": "text/x-python",
   "name": "python",
   "nbconvert_exporter": "python",
   "pygments_lexer": "ipython3",
   "version": "3.8.12"
  }
 },
 "nbformat": 4,
 "nbformat_minor": 5
}
